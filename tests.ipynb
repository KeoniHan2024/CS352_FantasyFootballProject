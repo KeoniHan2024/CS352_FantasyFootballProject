{
 "cells": [
  {
   "cell_type": "code",
   "execution_count": null,
   "metadata": {},
   "outputs": [],
   "source": [
    "year = 2019"
   ]
  },
  {
   "cell_type": "code",
   "execution_count": null,
   "metadata": {},
   "outputs": [],
   "source": [
    "#Formats html link based on the year you insert\n",
    "import pandas as pd\n",
    "url_template = 'https://www.basketball-reference.com/leagues/NBA_{}_per_game.html'\n",
    "url= url_template.format(year)\n",
    "html = pd.read_html(url, header = 0)\n",
    "df2019 = html[0]\n",
    "df2019"
   ]
  },
  {
   "cell_type": "code",
   "execution_count": null,
   "metadata": {},
   "outputs": [],
   "source": [
    "#Cleaning up Data\n",
    "rawData = df2019.drop(df2019[df2019.Age == 'Age'].index)\n",
    "rawData"
   ]
  },
  {
   "cell_type": "code",
   "execution_count": null,
   "metadata": {},
   "outputs": [],
   "source": [
    "#Prints sum of missing/null data\n",
    "print(rawData.isnull().sum())"
   ]
  },
  {
   "cell_type": "code",
   "execution_count": 70,
   "metadata": {},
   "outputs": [
    {
     "name": "stdout",
     "output_type": "stream",
     "text": [
      "Rk        0\n",
      "Player    0\n",
      "Pos       0\n",
      "Age       0\n",
      "Tm        0\n",
      "G         0\n",
      "GS        0\n",
      "MP        0\n",
      "FG        0\n",
      "FGA       0\n",
      "FG%       0\n",
      "3P        0\n",
      "3PA       0\n",
      "3P%       0\n",
      "2P        0\n",
      "2PA       0\n",
      "2P%       0\n",
      "eFG%      0\n",
      "FT        0\n",
      "FTA       0\n",
      "FT%       0\n",
      "ORB       0\n",
      "DRB       0\n",
      "TRB       0\n",
      "AST       0\n",
      "STL       0\n",
      "BLK       0\n",
      "TOV       0\n",
      "PF        0\n",
      "PTS       0\n",
      "dtype: int64\n"
     ]
    }
   ],
   "source": [
    "#Replaces null values with 0 then prints the sum of missing/null data after\n",
    "df = rawData.fillna(0)\n",
    "print(df.isnull().sum())"
   ]
  },
  {
   "cell_type": "code",
   "execution_count": null,
   "metadata": {},
   "outputs": [],
   "source": [
    "#Dropping a column\n",
    "df = df.drop(['ORB'], axis = 1)\n",
    "df = df.drop(['DRB'], axis = 1)\n",
    "df"
   ]
  },
  {
   "cell_type": "code",
   "execution_count": null,
   "metadata": {},
   "outputs": [],
   "source": [
    "fileName = 'NBA{}Stats'\n",
    "df.to_csv(fileName.format(year), index = False)"
   ]
  },
  {
   "cell_type": "code",
   "execution_count": 71,
   "metadata": {},
   "outputs": [
    {
     "data": {
      "text/plain": [
       "Rk          int64\n",
       "Player     object\n",
       "Pos        object\n",
       "Age         int64\n",
       "Tm         object\n",
       "G           int64\n",
       "GS          int64\n",
       "MP        float64\n",
       "FG        float64\n",
       "FGA       float64\n",
       "FG%       float64\n",
       "3P        float64\n",
       "3PA       float64\n",
       "3P%       float64\n",
       "2P        float64\n",
       "2PA       float64\n",
       "2P%       float64\n",
       "eFG%      float64\n",
       "FT        float64\n",
       "FTA       float64\n",
       "FT%       float64\n",
       "TRB       float64\n",
       "AST       float64\n",
       "STL       float64\n",
       "BLK       float64\n",
       "TOV       float64\n",
       "PF        float64\n",
       "PTS       float64\n",
       "dtype: object"
      ]
     },
     "execution_count": 71,
     "metadata": {},
     "output_type": "execute_result"
    }
   ],
   "source": [
    "#Find data types (columns)\n",
    "df = pd.read_csv(fileName.format(year))\n",
    "df.dtypes"
   ]
  },
  {
   "cell_type": "code",
   "execution_count": null,
   "metadata": {},
   "outputs": [],
   "source": [
    "#Show just objects\n",
    "df.select_dtypes(include=['object'])"
   ]
  },
  {
   "cell_type": "code",
   "execution_count": null,
   "metadata": {},
   "outputs": [],
   "source": [
    "#Show just floats or integers\n",
    "df.select_dtypes(include=['number'])"
   ]
  },
  {
   "cell_type": "code",
   "execution_count": 69,
   "metadata": {},
   "outputs": [
    {
     "data": {
      "text/plain": [
       "615    Russell Westbrook\n",
       "Name: Player, dtype: object"
      ]
     },
     "execution_count": 69,
     "metadata": {},
     "output_type": "execute_result"
    }
   ],
   "source": [
    "#Gets player with most points (Gets the whole row) and you can return certain things\n",
    "playerMostPoints = df[df.PTS == df.PTS.max()]\n",
    "playerMostPoints.Tm\n",
    "playerMostPoints.Player"
   ]
  },
  {
   "cell_type": "code",
   "execution_count": null,
   "metadata": {},
   "outputs": [],
   "source": [
    "#Find intervals of specific data types\n",
    "df[df.PTS > 22]"
   ]
  },
  {
   "cell_type": "code",
   "execution_count": null,
   "metadata": {},
   "outputs": [],
   "source": [
    "#Group players by a specific team\n",
    "GSW = df.groupby('Tm').get_group('SAS')\n",
    "GSW[GSW.PTS > 15]"
   ]
  }
 ],
 "metadata": {
  "interpreter": {
   "hash": "2be5faf79681da6f2a61fdfdd5405d65d042280f7fba6178067603e3a2925119"
  },
  "kernelspec": {
   "display_name": "Python 3.10.2 64-bit",
   "language": "python",
   "name": "python3"
  },
  "language_info": {
   "codemirror_mode": {
    "name": "ipython",
    "version": 3
   },
   "file_extension": ".py",
   "mimetype": "text/x-python",
   "name": "python",
   "nbconvert_exporter": "python",
   "pygments_lexer": "ipython3",
   "version": "3.10.2"
  },
  "orig_nbformat": 4
 },
 "nbformat": 4,
 "nbformat_minor": 2
}
